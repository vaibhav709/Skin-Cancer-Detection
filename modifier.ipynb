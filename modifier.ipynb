{
 "cells": [
  {
   "cell_type": "code",
   "execution_count": 1,
   "id": "927ad33e",
   "metadata": {},
   "outputs": [],
   "source": [
    "import os\n",
    "import shutil\n",
    "import pandas as pd\n",
    "from sklearn.model_selection import train_test_split"
   ]
  },
  {
   "cell_type": "code",
   "execution_count": null,
   "id": "825cc7f5",
   "metadata": {},
   "outputs": [],
   "source": [
    "# Base dataset folder\n",
    "BASE_DIR = \"archive\" \n",
    "IMG_DIR_1 = os.path.join(BASE_DIR, \"HAM10000_images_part_1\")\n",
    "IMG_DIR_2 = os.path.join(BASE_DIR, \"HAM10000_images_part_2\")\n",
    "META_PATH = os.path.join(BASE_DIR, \"HAM10000_metadata.csv\")"
   ]
  },
  {
   "cell_type": "code",
   "execution_count": 3,
   "id": "e22a3eaa",
   "metadata": {},
   "outputs": [],
   "source": [
    "# Output folders for split dataset\n",
    "OUTPUT_DIR = \"ham10000_dataset_split\"\n",
    "TRAIN_OUTPUT = os.path.join(OUTPUT_DIR, \"train\")\n",
    "VAL_OUTPUT = os.path.join(OUTPUT_DIR, \"val\")\n",
    "TEST_OUTPUT = os.path.join(OUTPUT_DIR, \"test\")\n",
    "\n",
    "os.makedirs(TRAIN_OUTPUT, exist_ok=True)\n",
    "os.makedirs(VAL_OUTPUT, exist_ok=True)\n",
    "os.makedirs(TEST_OUTPUT, exist_ok=True)"
   ]
  },
  {
   "cell_type": "code",
   "execution_count": 5,
   "id": "7f4b6118",
   "metadata": {},
   "outputs": [],
   "source": [
    "# Load metadata\n",
    "metadata = pd.read_csv(META_PATH)\n",
    "\n",
    "# Add full image paths\n",
    "def get_img_path(img_id):\n",
    "    fname = f\"{img_id}.jpg\"\n",
    "    if os.path.exists(os.path.join(IMG_DIR_1, fname)):\n",
    "        return os.path.join(IMG_DIR_1, fname)\n",
    "    elif os.path.exists(os.path.join(IMG_DIR_2, fname)):\n",
    "        return os.path.join(IMG_DIR_2, fname)\n",
    "    else:\n",
    "        return None\n",
    "\n",
    "metadata[\"path\"] = metadata[\"image_id\"].map(get_img_path)\n",
    "\n",
    "# Drop missing\n",
    "metadata = metadata.dropna(subset=[\"path\"])\n",
    "\n",
    "# Classes are in \"dx\"\n",
    "labels = metadata[\"dx\"].tolist()"
   ]
  },
  {
   "cell_type": "code",
   "execution_count": 6,
   "id": "11770e53",
   "metadata": {},
   "outputs": [
    {
     "name": "stdout",
     "output_type": "stream",
     "text": [
      "Train size: 7010\n",
      "Val size: 1502\n",
      "Test size: 1503\n",
      "HAM10000 dataset prepared:\n",
      "Train: 7010\n",
      "Val: 1502\n",
      "Test: 1503\n"
     ]
    }
   ],
   "source": [
    "# Split into train / val / test\n",
    "train_df, temp_df = train_test_split(\n",
    "    metadata,\n",
    "    test_size=0.30, # 30% to val+test\n",
    "    stratify=metadata[\"dx\"],\n",
    "    random_state=42\n",
    ")\n",
    "\n",
    "val_df, test_df = train_test_split(\n",
    "    temp_df,\n",
    "    test_size=0.50, # half 30% → 15%\n",
    "    stratify=temp_df[\"dx\"],\n",
    "    random_state=42\n",
    ")\n",
    "\n",
    "print(\"Train size:\", len(train_df))\n",
    "print(\"Val size:\", len(val_df))\n",
    "print(\"Test size:\", len(test_df))\n",
    "\n",
    "# Copy function\n",
    "def copy_files(df, dst_dir):\n",
    "    missing = []\n",
    "    for _, row in df.iterrows():\n",
    "        class_name = row[\"dx\"]\n",
    "        src_path = row[\"path\"]\n",
    "\n",
    "        if not os.path.exists(src_path):\n",
    "            missing.append(src_path)\n",
    "            continue\n",
    "\n",
    "        class_dir = os.path.join(dst_dir, class_name)\n",
    "        os.makedirs(class_dir, exist_ok=True)\n",
    "\n",
    "        dst_path = os.path.join(class_dir, os.path.basename(src_path))\n",
    "        shutil.copy(src_path, dst_path)\n",
    "\n",
    "    if missing:\n",
    "        print(f\"kipped {len(missing)} missing files\")\n",
    "\n",
    "# Copy images into folders\n",
    "copy_files(train_df, TRAIN_OUTPUT)\n",
    "copy_files(val_df, VAL_OUTPUT)\n",
    "copy_files(test_df, TEST_OUTPUT)\n",
    "\n",
    "print(\"HAM10000 dataset prepared:\")\n",
    "print(f\"Train: {len(train_df)}\")\n",
    "print(f\"Val: {len(val_df)}\")\n",
    "print(f\"Test: {len(test_df)}\")\n"
   ]
  },
  {
   "cell_type": "code",
   "execution_count": 8,
   "id": "528cd67a",
   "metadata": {},
   "outputs": [
    {
     "data": {
      "text/plain": [
       "(7010, 1502, 1503)"
      ]
     },
     "execution_count": 8,
     "metadata": {},
     "output_type": "execute_result"
    }
   ],
   "source": [
    "len(train_df), len(val_df), len(test_df)\n"
   ]
  }
 ],
 "metadata": {
  "kernelspec": {
   "display_name": "Python 3",
   "language": "python",
   "name": "python3"
  },
  "language_info": {
   "codemirror_mode": {
    "name": "ipython",
    "version": 3
   },
   "file_extension": ".py",
   "mimetype": "text/x-python",
   "name": "python",
   "nbconvert_exporter": "python",
   "pygments_lexer": "ipython3",
   "version": "3.12.5"
  }
 },
 "nbformat": 4,
 "nbformat_minor": 5
}
